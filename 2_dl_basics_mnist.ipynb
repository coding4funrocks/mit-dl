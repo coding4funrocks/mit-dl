{
 "cells": [
  {
   "cell_type": "code",
   "execution_count": 1,
   "metadata": {},
   "outputs": [
    {
     "name": "stdout",
     "output_type": "stream",
     "text": [
      "1.12.0\n"
     ]
    }
   ],
   "source": [
    "# TensorFlow and tf.keras\n",
    "import tensorflow as tf\n",
    "from tensorflow import keras\n",
    "from tensorflow.keras.layers import Conv2D, MaxPooling2D, Dropout, Flatten, Dense\n",
    "\n",
    "# Commonly used modules\n",
    "import numpy as np\n",
    "import os\n",
    "import sys\n",
    "\n",
    "# Images, plots, display, and visualization\n",
    "import matplotlib.pyplot as plt\n",
    "import pandas as pd\n",
    "import seaborn as sns\n",
    "import cv2\n",
    "import IPython\n",
    "from six.moves import urllib\n",
    "\n",
    "print(tf.__version__)"
   ]
  },
  {
   "cell_type": "code",
   "execution_count": 2,
   "metadata": {},
   "outputs": [],
   "source": [
    "# Set common constants\n",
    "this_repo_url = 'https://github.com/lexfridman/mit-deep-learning/raw/master/'\n",
    "this_tutorial_url = this_repo_url + 'tutorial_deep_learning_basics'"
   ]
  },
  {
   "cell_type": "code",
   "execution_count": 3,
   "metadata": {},
   "outputs": [],
   "source": [
    "(train_images, train_labels), (test_images, test_labels) = keras.datasets.mnist.load_data()\n",
    "\n",
    "# reshape images to specify that it's a single channel\n",
    "train_images = train_images.reshape(train_images.shape[0], 28, 28, 1)\n",
    "test_images = test_images.reshape(test_images.shape[0], 28, 28, 1)"
   ]
  },
  {
   "cell_type": "code",
   "execution_count": 4,
   "metadata": {},
   "outputs": [],
   "source": [
    "def preprocess_images(imgs):\n",
    "    sample_img = img if len(imgs.shape) == 2 else imgs[0]\n",
    "    assert sample_img.shape in [(28, 28, 1), (28, 28)], sample_img.shape\n",
    "    return imgs / 255.0\n",
    "\n",
    "train_images = preprocess_images(train_images)\n",
    "test_images = preprocess_images(test_images)"
   ]
  },
  {
   "cell_type": "code",
   "execution_count": 5,
   "metadata": {},
   "outputs": [
    {
     "data": {
      "image/png": "[encoded data removed]",
      "text/plain": [
       "<Figure size 720x144 with 5 Axes>"
      ]
     },
     "metadata": {},
     "output_type": "display_data"
    }
   ],
   "source": [
    "plt.figure(figsize=(10, 2))\n",
    "for i in range(5):\n",
    "    plt.subplot(1, 5, i+1)\n",
    "    plt.xticks([])\n",
    "    plt.yticks([])\n",
    "    plt.grid(False)\n",
    "    plt.imshow(train_images[i].reshape(28, 28), cmap = plt.cm.binary)\n",
    "    plt.xlabel(train_labels[i])"
   ]
  },
  {
   "cell_type": "code",
   "execution_count": 6,
   "metadata": {},
   "outputs": [],
   "source": [
    "# Build the model\n",
    "model = keras.Sequential()\n",
    "model.add(Conv2D(32, kernel_size = (3, 3), activation = 'relu', input_shape = (28, 28, 1)))\n",
    "model.add(Conv2D(64, (3, 3), activation = 'relu'))\n",
    "model.add(MaxPooling2D(pool_size = (2, 2)))\n",
    "model.add(Dropout(0.25))\n",
    "model.add(Flatten())\n",
    "model.add(Dense(128, activation = 'relu'))\n",
    "model.add(Dropout(0.5))\n",
    "model.add(Dense(10, activation = 'softmax'))"
   ]
  },
  {
   "cell_type": "code",
   "execution_count": 7,
   "metadata": {},
   "outputs": [],
   "source": [
    "model.compile(optimizer = tf.train.AdamOptimizer(),\n",
    "             loss = 'sparse_categorical_crossentropy',\n",
    "             metrics = ['accuracy'])"
   ]
  },
  {
   "cell_type": "code",
   "execution_count": 8,
   "metadata": {
    "scrolled": false
   },
   "outputs": [
    {
     "name": "stdout",
     "output_type": "stream",
     "text": [
      "Epoch 1/5\n",
      "60000/60000 [==============================] - 376s 6ms/step - loss: 0.1982 - acc: 0.9402\n",
      "Epoch 2/5\n",
      "60000/60000 [==============================] - 330s 5ms/step - loss: 0.0811 - acc: 0.9756\n",
      "Epoch 3/5\n",
      "60000/60000 [==============================] - 244s 4ms/step - loss: 0.0612 - acc: 0.9814\n",
      "Epoch 4/5\n",
      "60000/60000 [==============================] - 237s 4ms/step - loss: 0.0506 - acc: 0.9846\n",
      "Epoch 5/5\n",
      "60000/60000 [==============================] - 228s 4ms/step - loss: 0.0449 - acc: 0.9862\n"
     ]
    }
   ],
   "source": [
    "# Train the model\n",
    "history = model.fit(train_images, train_labels, epochs = 5)"
   ]
  },
  {
   "cell_type": "code",
   "execution_count": 9,
   "metadata": {},
   "outputs": [
    {
     "name": "stdout",
     "output_type": "stream",
     "text": [
      "(10000, 28, 28, 1)\n",
      "10000/10000 [==============================] - 12s 1ms/step\n",
      "Test accuracy: 0.9893\n"
     ]
    }
   ],
   "source": [
    "# Evaluate accuracy\n",
    "print(test_images.shape)\n",
    "test_loss, test_acc = model.evaluate(test_images, test_labels)\n",
    "print('Test accuracy:', test_acc)"
   ]
  },
  {
   "cell_type": "code",
   "execution_count": 10,
   "metadata": {},
   "outputs": [
    {
     "name": "stdout",
     "output_type": "stream",
     "text": [
      "downloading the sample video...\n"
     ]
    },
    {
     "ename": "AssertionError",
     "evalue": "(720, 720, 3)",
     "output_type": "error",
     "traceback": [
      "\u001b[1;31m---------------------------------------------------------------------------\u001b[0m",
      "\u001b[1;31mAssertionError\u001b[0m                            Traceback (most recent call last)",
      "\u001b[1;32m<ipython-input-10-d7f9fc2192bf>\u001b[0m in \u001b[0;36m<module>\u001b[1;34m\u001b[0m\n\u001b[0;32m     28\u001b[0m     \u001b[0mimg_proc\u001b[0m \u001b[1;33m=\u001b[0m \u001b[0mcv2\u001b[0m\u001b[1;33m.\u001b[0m\u001b[0mcvtColor\u001b[0m\u001b[1;33m(\u001b[0m\u001b[0mimg\u001b[0m\u001b[1;33m,\u001b[0m \u001b[0mcv2\u001b[0m\u001b[1;33m.\u001b[0m\u001b[0mCOLOR_BGR2GRAY\u001b[0m\u001b[1;33m)\u001b[0m\u001b[1;33m\u001b[0m\u001b[1;33m\u001b[0m\u001b[0m\n\u001b[0;32m     29\u001b[0m     \u001b[0mimg_proc\u001b[0m \u001b[1;33m=\u001b[0m \u001b[0mcv2\u001b[0m\u001b[1;33m.\u001b[0m\u001b[0mresize\u001b[0m\u001b[1;33m(\u001b[0m\u001b[0mimg_proc\u001b[0m\u001b[1;33m,\u001b[0m \u001b[1;33m(\u001b[0m\u001b[1;36m28\u001b[0m\u001b[1;33m,\u001b[0m \u001b[1;36m28\u001b[0m\u001b[1;33m)\u001b[0m\u001b[1;33m)\u001b[0m\u001b[1;33m\u001b[0m\u001b[1;33m\u001b[0m\u001b[0m\n\u001b[1;32m---> 30\u001b[1;33m     \u001b[0mimg_proc\u001b[0m \u001b[1;33m=\u001b[0m \u001b[0mpreprocess_images\u001b[0m\u001b[1;33m(\u001b[0m\u001b[0mimg_proc\u001b[0m\u001b[1;33m)\u001b[0m\u001b[1;33m\u001b[0m\u001b[1;33m\u001b[0m\u001b[0m\n\u001b[0m\u001b[0;32m     31\u001b[0m     \u001b[0mimg_proc\u001b[0m \u001b[1;33m=\u001b[0m \u001b[1;36m1\u001b[0m \u001b[1;33m-\u001b[0m \u001b[0mimg_proc\u001b[0m\u001b[1;33m\u001b[0m\u001b[1;33m\u001b[0m\u001b[0m\n\u001b[0;32m     32\u001b[0m \u001b[1;33m\u001b[0m\u001b[0m\n",
      "\u001b[1;32m<ipython-input-4-214e9e86d271>\u001b[0m in \u001b[0;36mpreprocess_images\u001b[1;34m(imgs)\u001b[0m\n\u001b[0;32m      1\u001b[0m \u001b[1;32mdef\u001b[0m \u001b[0mpreprocess_images\u001b[0m\u001b[1;33m(\u001b[0m\u001b[0mimgs\u001b[0m\u001b[1;33m)\u001b[0m\u001b[1;33m:\u001b[0m\u001b[1;33m\u001b[0m\u001b[1;33m\u001b[0m\u001b[0m\n\u001b[0;32m      2\u001b[0m     \u001b[0msample_img\u001b[0m \u001b[1;33m=\u001b[0m \u001b[0mimg\u001b[0m \u001b[1;32mif\u001b[0m \u001b[0mlen\u001b[0m\u001b[1;33m(\u001b[0m\u001b[0mimgs\u001b[0m\u001b[1;33m.\u001b[0m\u001b[0mshape\u001b[0m\u001b[1;33m)\u001b[0m \u001b[1;33m==\u001b[0m \u001b[1;36m2\u001b[0m \u001b[1;32melse\u001b[0m \u001b[0mimgs\u001b[0m\u001b[1;33m[\u001b[0m\u001b[1;36m0\u001b[0m\u001b[1;33m]\u001b[0m\u001b[1;33m\u001b[0m\u001b[1;33m\u001b[0m\u001b[0m\n\u001b[1;32m----> 3\u001b[1;33m     \u001b[1;32massert\u001b[0m \u001b[0msample_img\u001b[0m\u001b[1;33m.\u001b[0m\u001b[0mshape\u001b[0m \u001b[1;32min\u001b[0m \u001b[1;33m[\u001b[0m\u001b[1;33m(\u001b[0m\u001b[1;36m28\u001b[0m\u001b[1;33m,\u001b[0m \u001b[1;36m28\u001b[0m\u001b[1;33m,\u001b[0m \u001b[1;36m1\u001b[0m\u001b[1;33m)\u001b[0m\u001b[1;33m,\u001b[0m \u001b[1;33m(\u001b[0m\u001b[1;36m28\u001b[0m\u001b[1;33m,\u001b[0m \u001b[1;36m28\u001b[0m\u001b[1;33m)\u001b[0m\u001b[1;33m]\u001b[0m\u001b[1;33m,\u001b[0m \u001b[0msample_img\u001b[0m\u001b[1;33m.\u001b[0m\u001b[0mshape\u001b[0m\u001b[1;33m\u001b[0m\u001b[1;33m\u001b[0m\u001b[0m\n\u001b[0m\u001b[0;32m      4\u001b[0m     \u001b[1;32mreturn\u001b[0m \u001b[0mimgs\u001b[0m \u001b[1;33m/\u001b[0m \u001b[1;36m255.0\u001b[0m\u001b[1;33m\u001b[0m\u001b[1;33m\u001b[0m\u001b[0m\n\u001b[0;32m      5\u001b[0m \u001b[1;33m\u001b[0m\u001b[0m\n",
      "\u001b[1;31mAssertionError\u001b[0m: (720, 720, 3)"
     ]
    }
   ],
   "source": [
    "# Make predictions\n",
    "mnist_dream_path = 'images/mnist_dream.mp4'\n",
    "mnist_prediction_path = 'images/mnist_dream_predicted.mp4'\n",
    "\n",
    "# download the video if running in Colab\n",
    "if not os.path.isfile(mnist_dream_path): \n",
    "    print('downloading the sample video...')\n",
    "    vid_url = this_tutorial_url + '/' + mnist_dream_path\n",
    "    \n",
    "    mnist_dream_path = urllib.request.urlretrieve(vid_url)[0]\n",
    "                                                                                                  \n",
    "def cv2_imshow(img):\n",
    "    ret = cv2.imencode('.png', img)[1].tobytes() \n",
    "    img_ip = IPython.display.Image(data=ret)\n",
    "    IPython.display.display(img_ip)\n",
    "\n",
    "cap = cv2.VideoCapture(mnist_dream_path) \n",
    "vw = None\n",
    "frame = -1 # counter for debugging (mostly), 0-indexed\n",
    "\n",
    "# go through all the frames and run our classifier on the high res MNIST images as they morph from number to number\n",
    "while True:\n",
    "    frame += 1\n",
    "    ret, img = cap.read()\n",
    "    if not ret: break\n",
    "               \n",
    "    assert img.shape[0] == img.shape[1]\n",
    "    if img.shape[0] != 720:\n",
    "        img = cv2.resize(img, (720, 720))\n",
    "       \n",
    "    #preprocess the image for prediction\n",
    "    img_proc = cv2.cvtColor(img, cv2.COLOR_BGR2GRAY)\n",
    "    img_proc = cv2.resize(img_proc, (28, 28))\n",
    "    img_proc = preprocess_images(img_proc)\n",
    "    img_proc = 1 - img_proc\n",
    "\n",
    "    net_in = np.expand_dims(img_proc, axis=0)\n",
    "    net_in = np.expand_dims(net_in, axis=3)\n",
    "    \n",
    "    preds = model.predict(net_in)[0]\n",
    "    guess = np.argmax(preds)\n",
    "    perc = np.rint(preds * 100).astype(int)\n",
    "    \n",
    "    img = 255 - img\n",
    "    pad_color = 0\n",
    "    img = np.pad(img, ((0,0), (0,1280-720), (0,0)), mode='constant', constant_values=(pad_color))  \n",
    "    \n",
    "    line_type = cv2.LINE_AA\n",
    "    font_face = cv2.FONT_HERSHEY_SIMPLEX\n",
    "    font_scale = 1.3        \n",
    "    thickness = 2\n",
    "    x, y = 740, 60\n",
    "    color = (255, 255, 255)\n",
    "    \n",
    "    text = \"Neural Network Output:\"\n",
    "    cv2.putText(img, text=text, org=(x, y), fontScale=font_scale, fontFace=font_face, thickness=thickness,\n",
    "                    color=color, lineType=line_type)\n",
    "    \n",
    "    text = \"Input:\"\n",
    "    cv2.putText(img, text=text, org=(30, y), fontScale=font_scale, fontFace=font_face, thickness=thickness,\n",
    "                    color=color, lineType=line_type)   \n",
    "        \n",
    "    y = 130\n",
    "    for i, p in enumerate(perc):\n",
    "        if i == guess: color = (255, 218, 158)\n",
    "        else: color = (100, 100, 100)\n",
    "            \n",
    "        rect_width = 0\n",
    "        if p > 0: rect_width = int(p * 3.3)\n",
    "        \n",
    "        rect_start = 180\n",
    "        cv2.rectangle(img, (x+rect_start, y-5), (x+rect_start+rect_width, y-20), color, -1)\n",
    "\n",
    "        text = '{}: {:>3}%'.format(i, int(p))\n",
    "        cv2.putText(img, text=text, org=(x, y), fontScale=font_scale, fontFace=font_face, thickness=thickness,\n",
    "                    color=color, lineType=line_type)\n",
    "        y += 60\n",
    "    \n",
    "    # if you don't want to save the output as a video, set this to False\n",
    "    save_video = True\n",
    "    \n",
    "    if save_video:\n",
    "        if vw is None:\n",
    "            codec = cv2.VideoWriter_fourcc(*'DIVX')\n",
    "            vid_width_height = img.shape[1], img.shape[0]\n",
    "            vw = cv2.VideoWriter(mnist_prediction_path, codec, 30, vid_width_height)\n",
    "        vw.write(img)\n",
    "        vw.write(img)\n",
    "    \n",
    "    # scale down image for display\n",
    "    img_disp = cv2.resize(img, (0,0), fx=0.5, fy=0.5)\n",
    "    cv2_imshow(img_disp)\n",
    "    IPython.display.clear_output(wait=True)\n",
    "        \n",
    "cap.release()\n",
    "if vw is not None:\n",
    "    vw.release()"
   ]
  }
 ],
 "metadata": {
  "kernelspec": {
   "display_name": "Python 3",
   "language": "python",
   "name": "python3"
  },
  "language_info": {
   "codemirror_mode": {
    "name": "ipython",
    "version": 3
   },
   "file_extension": ".py",
   "mimetype": "text/x-python",
   "name": "python",
   "nbconvert_exporter": "python",
   "pygments_lexer": "ipython3",
   "version": "3.6.8"
  }
 },
 "nbformat": 4,
 "nbformat_minor": 2
}
